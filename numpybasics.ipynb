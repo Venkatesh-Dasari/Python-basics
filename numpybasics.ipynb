{
 "cells": [
  {
   "cell_type": "code",
   "execution_count": 7,
   "id": "b95306e4",
   "metadata": {},
   "outputs": [],
   "source": [
    "import numpy as np"
   ]
  },
  {
   "cell_type": "code",
   "execution_count": 21,
   "id": "b63e4139",
   "metadata": {},
   "outputs": [
    {
     "data": {
      "text/plain": [
       "[4, 5, 6, 'a']"
      ]
     },
     "execution_count": 21,
     "metadata": {},
     "output_type": "execute_result"
    }
   ],
   "source": [
    "sample_list=[4, 5, 6, \"a\"]\n",
    "sample_list"
   ]
  },
  {
   "cell_type": "code",
   "execution_count": 23,
   "id": "22f6cf2c",
   "metadata": {},
   "outputs": [
    {
     "data": {
      "text/plain": [
       "array([[ 5,  6,  7],\n",
       "       [ 8,  9, 10],\n",
       "       [11, 12, 13]])"
      ]
     },
     "execution_count": 23,
     "metadata": {},
     "output_type": "execute_result"
    }
   ],
   "source": [
    "#Creating array\n",
    "list_of_list=[[5, 6, 7], [8, 9, 10], [11, 12, 13]]\n",
    "np.array(list_of_list)"
   ]
  },
  {
   "cell_type": "code",
   "execution_count": 22,
   "id": "1f7666bb",
   "metadata": {},
   "outputs": [
    {
     "data": {
      "text/plain": [
       "array([4, 5, 6])"
      ]
     },
     "execution_count": 22,
     "metadata": {},
     "output_type": "execute_result"
    }
   ],
   "source": [
    "arr=np.array([4, 5, 6])\n",
    "array"
   ]
  },
  {
   "cell_type": "code",
   "execution_count": 9,
   "id": "45028987",
   "metadata": {},
   "outputs": [
    {
     "data": {
      "text/plain": [
       "array([ 5,  6,  7,  8,  9, 10, 11, 12, 13, 14, 15, 16, 17, 18, 19])"
      ]
     },
     "execution_count": 9,
     "metadata": {},
     "output_type": "execute_result"
    }
   ],
   "source": [
    "#range of numbers -note python indexing starts from zero and last number will be excluded\n",
    "np.arange(5, 20)"
   ]
  },
  {
   "cell_type": "code",
   "execution_count": 11,
   "id": "6a68ac32",
   "metadata": {},
   "outputs": [
    {
     "data": {
      "text/plain": [
       "array([ 5, 10, 15])"
      ]
     },
     "execution_count": 11,
     "metadata": {},
     "output_type": "execute_result"
    }
   ],
   "source": [
    "np.arange(5, 20, 5)"
   ]
  },
  {
   "cell_type": "code",
   "execution_count": 12,
   "id": "f63b7044",
   "metadata": {},
   "outputs": [
    {
     "data": {
      "text/plain": [
       "array([ 5., 10., 15.])"
      ]
     },
     "execution_count": 12,
     "metadata": {},
     "output_type": "execute_result"
    }
   ],
   "source": [
    "np.arange(5, 20, 5, dtype=float)"
   ]
  },
  {
   "cell_type": "code",
   "execution_count": 102,
   "id": "b1034ae7",
   "metadata": {},
   "outputs": [
    {
     "data": {
      "text/plain": [
       "array([0., 0., 0., 0., 0., 0., 0., 0., 0., 0.])"
      ]
     },
     "execution_count": 102,
     "metadata": {},
     "output_type": "execute_result"
    }
   ],
   "source": [
    "np.zeros(10, dtype='float')"
   ]
  },
  {
   "cell_type": "code",
   "execution_count": 13,
   "id": "51ae4d1e",
   "metadata": {},
   "outputs": [
    {
     "data": {
      "text/plain": [
       "array([1, 1, 1, 1, 1, 1, 1, 1, 1, 1])"
      ]
     },
     "execution_count": 13,
     "metadata": {},
     "output_type": "execute_result"
    }
   ],
   "source": [
    "np.ones(10, dtype=int)"
   ]
  },
  {
   "cell_type": "code",
   "execution_count": 16,
   "id": "8a305ce6",
   "metadata": {},
   "outputs": [
    {
     "data": {
      "text/plain": [
       "array([[1., 1.],\n",
       "       [1., 1.],\n",
       "       [1., 1.]])"
      ]
     },
     "execution_count": 16,
     "metadata": {},
     "output_type": "execute_result"
    }
   ],
   "source": [
    "np.ones((3, 2))"
   ]
  },
  {
   "cell_type": "code",
   "execution_count": 17,
   "id": "955d3730",
   "metadata": {},
   "outputs": [
    {
     "data": {
      "text/plain": [
       "array([ 0.        ,  1.11111111,  2.22222222,  3.33333333,  4.44444444,\n",
       "        5.55555556,  6.66666667,  7.77777778,  8.88888889, 10.        ,\n",
       "       11.11111111, 12.22222222, 13.33333333, 14.44444444, 15.55555556,\n",
       "       16.66666667, 17.77777778, 18.88888889, 20.        ])"
      ]
     },
     "execution_count": 17,
     "metadata": {},
     "output_type": "execute_result"
    }
   ],
   "source": [
    "np.linspace(0, 20, 19)"
   ]
  },
  {
   "cell_type": "code",
   "execution_count": 18,
   "id": "992bd2ab",
   "metadata": {},
   "outputs": [
    {
     "data": {
      "text/plain": [
       "array([[1., 0., 0.],\n",
       "       [0., 1., 0.],\n",
       "       [0., 0., 1.]])"
      ]
     },
     "execution_count": 18,
     "metadata": {},
     "output_type": "execute_result"
    }
   ],
   "source": [
    "np.eye(3)"
   ]
  },
  {
   "cell_type": "code",
   "execution_count": 19,
   "id": "28062290",
   "metadata": {},
   "outputs": [
    {
     "data": {
      "text/plain": [
       "array([[ 1.02870156, -2.29745333, -0.12386542],\n",
       "       [ 0.91847484,  0.40192727,  0.002315  ]])"
      ]
     },
     "execution_count": 19,
     "metadata": {},
     "output_type": "execute_result"
    }
   ],
   "source": [
    "np.random.randn(2, 3)"
   ]
  },
  {
   "cell_type": "code",
   "execution_count": 20,
   "id": "8a08692a",
   "metadata": {},
   "outputs": [
    {
     "data": {
      "text/plain": [
       "4"
      ]
     },
     "execution_count": 20,
     "metadata": {},
     "output_type": "execute_result"
    }
   ],
   "source": [
    "np.random.randint(1, 10)"
   ]
  },
  {
   "cell_type": "code",
   "execution_count": 25,
   "id": "f9f2cc83",
   "metadata": {},
   "outputs": [
    {
     "data": {
      "text/plain": [
       "array([[0.35727272, 0.54322186, 0.3707489 , 0.37127036],\n",
       "       [0.979361  , 0.94385505, 0.88941729, 0.79789277],\n",
       "       [0.4411643 , 0.05066222, 0.59157139, 0.18582659],\n",
       "       [0.94996511, 0.32285823, 0.41338135, 0.70233701],\n",
       "       [0.88416171, 0.63800701, 0.9553056 , 0.1038902 ]])"
      ]
     },
     "execution_count": 25,
     "metadata": {},
     "output_type": "execute_result"
    }
   ],
   "source": [
    "a=np.random.rand(5,4)\n",
    "a"
   ]
  },
  {
   "cell_type": "code",
   "execution_count": 26,
   "id": "ed9daaf8",
   "metadata": {},
   "outputs": [
    {
     "data": {
      "text/plain": [
       "array([[0.35727272, 0.54322186, 0.3707489 , 0.37127036, 0.979361  ,\n",
       "        0.94385505, 0.88941729, 0.79789277, 0.4411643 , 0.05066222],\n",
       "       [0.59157139, 0.18582659, 0.94996511, 0.32285823, 0.41338135,\n",
       "        0.70233701, 0.88416171, 0.63800701, 0.9553056 , 0.1038902 ]])"
      ]
     },
     "execution_count": 26,
     "metadata": {},
     "output_type": "execute_result"
    }
   ],
   "source": [
    "a.reshape(2, 10)"
   ]
  },
  {
   "cell_type": "code",
   "execution_count": 32,
   "id": "79cb3466",
   "metadata": {},
   "outputs": [
    {
     "data": {
      "text/plain": [
       "array([[36, 48, 45,  5, 47, 43, 43, 27, 25, 28],\n",
       "       [10, 13, 41, 14,  3, 23, 46,  1, 34,  9],\n",
       "       [39, 29, 11, 23, 15, 18, 14, 39, 20,  3],\n",
       "       [49,  1, 30, 20, 40, 25, 13, 39, 17, 24],\n",
       "       [38, 14,  3, 41, 40, 49,  7, 13,  1, 23],\n",
       "       [28, 33, 28, 17, 22, 48, 36, 16, 10, 22],\n",
       "       [12, 14,  8, 40, 11, 41, 29, 31, 12, 34],\n",
       "       [13,  2, 16, 13, 15, 15, 37, 18, 45, 32],\n",
       "       [45, 31, 29, 35, 30, 37, 39, 32,  1, 24],\n",
       "       [21, 48, 46, 13, 30, 40, 40, 47, 45, 14]])"
      ]
     },
     "execution_count": 32,
     "metadata": {},
     "output_type": "execute_result"
    }
   ],
   "source": [
    "b=np.random.randint(0, 50, 100)\n",
    "c=b.reshape(10, 10)\n",
    "c"
   ]
  },
  {
   "cell_type": "code",
   "execution_count": 33,
   "id": "e8c7358d",
   "metadata": {},
   "outputs": [
    {
     "data": {
      "text/plain": [
       "array([[36, 10, 39, 49, 38, 28, 12, 13, 45, 21],\n",
       "       [48, 13, 29,  1, 14, 33, 14,  2, 31, 48],\n",
       "       [45, 41, 11, 30,  3, 28,  8, 16, 29, 46],\n",
       "       [ 5, 14, 23, 20, 41, 17, 40, 13, 35, 13],\n",
       "       [47,  3, 15, 40, 40, 22, 11, 15, 30, 30],\n",
       "       [43, 23, 18, 25, 49, 48, 41, 15, 37, 40],\n",
       "       [43, 46, 14, 13,  7, 36, 29, 37, 39, 40],\n",
       "       [27,  1, 39, 39, 13, 16, 31, 18, 32, 47],\n",
       "       [25, 34, 20, 17,  1, 10, 12, 45,  1, 45],\n",
       "       [28,  9,  3, 24, 23, 22, 34, 32, 24, 14]])"
      ]
     },
     "execution_count": 33,
     "metadata": {},
     "output_type": "execute_result"
    }
   ],
   "source": [
    "c.T"
   ]
  },
  {
   "cell_type": "code",
   "execution_count": 36,
   "id": "6eaa7c1f",
   "metadata": {},
   "outputs": [
    {
     "data": {
      "text/plain": [
       "(49, 1, 17, 30)"
      ]
     },
     "execution_count": 36,
     "metadata": {},
     "output_type": "execute_result"
    }
   ],
   "source": [
    "c.max(), c.min(), c.argmin(), c.argmax()"
   ]
  },
  {
   "cell_type": "code",
   "execution_count": 64,
   "id": "8b6afc3f",
   "metadata": {},
   "outputs": [
    {
     "data": {
      "text/plain": [
       "array([[-1.34569073,  0.65611556, -0.22752596,  0.79758566,  1.11407801,\n",
       "        -0.77080343, -1.00936318,  0.64215012,  0.64392436, -0.19780332],\n",
       "       [ 0.04351712, -0.4357547 ,  0.72330274,  0.53476641, -1.00141904,\n",
       "         0.78842321,  0.46671782, -0.53222216,  0.51729024, -0.06942257],\n",
       "       [ 0.38733527,  0.3304401 ,  1.65369832, -0.19077238,  0.18978368,\n",
       "         0.36307696, -0.51489974, -0.48265586, -1.43708424,  1.36424491],\n",
       "       [ 2.63408536,  0.7939056 , -0.52238313, -0.17423163, -0.23432486,\n",
       "        -2.14419598, -0.41835759,  0.5530439 , -1.04026713,  0.42669875],\n",
       "       [ 1.63773443,  2.42916741, -0.62031261, -0.29787693, -0.49904653,\n",
       "        -0.42010873,  1.19236517, -0.0469156 , -1.66104902,  0.80578648],\n",
       "       [ 0.14165007,  1.40842715, -2.37103845, -0.45704641,  1.9221909 ,\n",
       "        -0.06446817, -0.17377881,  0.2477305 ,  0.4860821 ,  0.9221969 ],\n",
       "       [-0.6538066 , -0.27246711,  1.17451449, -0.51870717, -0.24219542,\n",
       "        -0.76677209,  0.75317973,  0.17910558,  0.0482295 , -1.23887721],\n",
       "       [-1.47448373, -0.38691816,  0.33734173,  0.45956217, -0.75251911,\n",
       "         0.17430415, -2.04320495,  1.8113834 ,  0.82552797, -1.33719337],\n",
       "       [-1.39691985,  1.9900404 , -0.05602601, -1.12594462, -1.47955499,\n",
       "         0.01978997,  2.27538699,  1.15546601,  0.20700488,  1.55874954],\n",
       "       [-1.32580141, -0.26108641, -0.08690096, -0.8830868 , -0.45921833,\n",
       "        -1.00435858,  1.26074689, -0.77420012, -0.30160777, -1.61135789]])"
      ]
     },
     "execution_count": 64,
     "metadata": {},
     "output_type": "execute_result"
    }
   ],
   "source": [
    "a=np.random.randn(5, 20)\n",
    "a.shape\n",
    "a.reshape(10, 10)"
   ]
  },
  {
   "cell_type": "code",
   "execution_count": 66,
   "id": "4af68634",
   "metadata": {},
   "outputs": [
    {
     "data": {
      "text/plain": [
       "array([[0.3740611 , 0.17346358, 0.1386613 , 0.87001481, 0.84725536,\n",
       "        0.81321991, 0.49217337, 0.30969248, 0.97870045, 0.60951537,\n",
       "        0.73416699, 0.89706391, 0.19402563, 0.48088274, 0.03659829,\n",
       "        0.89936234, 0.96254466, 0.60234609, 0.1979255 , 0.94118442],\n",
       "       [0.01918924, 0.76099013, 0.19515974, 0.50184372, 0.19982291,\n",
       "        0.10376631, 0.13756595, 0.17643995, 0.28310284, 0.8056289 ,\n",
       "        0.15066653, 0.51189005, 0.54922443, 0.51068256, 0.80231603,\n",
       "        0.07342351, 0.54565198, 0.35008956, 0.8053589 , 0.72834251],\n",
       "       [0.04653612, 0.35196355, 0.32334741, 0.56560519, 0.4290856 ,\n",
       "        0.76802636, 0.63545381, 0.62657065, 0.20744493, 0.28025914,\n",
       "        0.26588238, 0.51278598, 0.95645356, 0.13727827, 0.91426457,\n",
       "        0.28139675, 0.67127627, 0.9549615 , 0.06181765, 0.78501976],\n",
       "       [0.57639453, 0.06507006, 0.68144906, 0.83344925, 0.22917661,\n",
       "        0.63707991, 0.88439385, 0.34352702, 0.14728571, 0.08352782,\n",
       "        0.52884954, 0.72754736, 0.35441985, 0.6527579 , 0.2870487 ,\n",
       "        0.33468245, 0.92695674, 0.27650299, 0.59891235, 0.64029294],\n",
       "       [0.42708436, 0.6403944 , 0.00399994, 0.61919047, 0.22508764,\n",
       "        0.03135079, 0.62978309, 0.1168003 , 0.59003042, 0.12946954,\n",
       "        0.38465651, 0.39828198, 0.54111521, 0.78292694, 0.81549676,\n",
       "        0.30673203, 0.57750701, 0.86493288, 0.16893955, 0.5238476 ]])"
      ]
     },
     "execution_count": 66,
     "metadata": {},
     "output_type": "execute_result"
    }
   ],
   "source": [
    "B=np.random.rand(5, 20)\n",
    "B"
   ]
  },
  {
   "cell_type": "code",
   "execution_count": 70,
   "id": "897e7717",
   "metadata": {},
   "outputs": [
    {
     "data": {
      "text/plain": [
       "array([[ 6, 14, 19,  6, 11, 11, 16, 11, 11, 18],\n",
       "       [14, 18, 18, 14,  6, 17,  6, 15,  8, 11],\n",
       "       [ 7,  6, 16, 11, 13, 13, 19,  5, 11,  9],\n",
       "       [13, 16,  6, 15, 13, 14,  9, 18,  7, 14],\n",
       "       [10, 13, 17,  6, 13,  6,  5, 19,  6, 16],\n",
       "       [17, 14,  8,  7,  8, 16,  8,  7, 18, 11],\n",
       "       [17, 10, 15, 16, 12,  5, 16,  7, 12, 15],\n",
       "       [14, 19, 13, 13,  5, 15, 14, 12, 14, 10],\n",
       "       [ 9,  8, 18, 12, 13,  8, 10,  6,  6, 17],\n",
       "       [12, 15, 18, 17, 14,  9, 11,  6, 15,  9]])"
      ]
     },
     "execution_count": 70,
     "metadata": {},
     "output_type": "execute_result"
    }
   ],
   "source": [
    "C=np.random.randint(5, 20, 100)\n",
    "C.reshape(10, 10)"
   ]
  },
  {
   "cell_type": "code",
   "execution_count": 74,
   "id": "0f4ead69",
   "metadata": {},
   "outputs": [
    {
     "data": {
      "text/plain": [
       "array([[3, 0, 3, 2, 4, 4, 2, 4, 2, 2],\n",
       "       [3, 3, 1, 2, 0, 0, 4, 1, 2, 0],\n",
       "       [1, 2, 0, 1, 4, 3, 2, 2, 0, 0],\n",
       "       [2, 2, 3, 1, 1, 2, 3, 0, 2, 1],\n",
       "       [3, 2, 3, 3, 3, 2, 2, 3, 1, 4],\n",
       "       [0, 0, 0, 3, 0, 2, 1, 1, 0, 1],\n",
       "       [2, 2, 2, 1, 1, 3, 1, 1, 2, 1],\n",
       "       [0, 3, 0, 1, 1, 1, 3, 2, 3, 3],\n",
       "       [3, 4, 2, 2, 2, 0, 3, 4, 1, 2],\n",
       "       [2, 1, 4, 0, 3, 0, 3, 3, 2, 1]])"
      ]
     },
     "execution_count": 74,
     "metadata": {},
     "output_type": "execute_result"
    }
   ],
   "source": [
    "D=np.random.randint(5, size=(10, 10))\n",
    "D"
   ]
  },
  {
   "cell_type": "code",
   "execution_count": 75,
   "id": "0f99e124",
   "metadata": {},
   "outputs": [
    {
     "data": {
      "text/plain": [
       "array([[ 1,  2,  3,  4],\n",
       "       [ 5,  6,  7,  8],\n",
       "       [ 9, 10, 11, 12]])"
      ]
     },
     "execution_count": 75,
     "metadata": {},
     "output_type": "execute_result"
    }
   ],
   "source": [
    "matrix=np.array(([1, 2, 3, 4], [5, 6, 7, 8], [9,10, 11, 12]))\n",
    "matrix"
   ]
  },
  {
   "cell_type": "code",
   "execution_count": 76,
   "id": "46efdbca",
   "metadata": {},
   "outputs": [
    {
     "data": {
      "text/plain": [
       "4"
      ]
     },
     "execution_count": 76,
     "metadata": {},
     "output_type": "execute_result"
    }
   ],
   "source": [
    "matrix[0][3]"
   ]
  },
  {
   "cell_type": "code",
   "execution_count": 77,
   "id": "f24e45a1",
   "metadata": {},
   "outputs": [
    {
     "data": {
      "text/plain": [
       "array([1, 5, 9])"
      ]
     },
     "execution_count": 77,
     "metadata": {},
     "output_type": "execute_result"
    }
   ],
   "source": [
    "matrix[:, 0]"
   ]
  },
  {
   "cell_type": "code",
   "execution_count": 79,
   "id": "48bbcac2",
   "metadata": {},
   "outputs": [
    {
     "data": {
      "text/plain": [
       "array([[ 6,  7],\n",
       "       [10, 11]])"
      ]
     },
     "execution_count": 79,
     "metadata": {},
     "output_type": "execute_result"
    }
   ],
   "source": [
    "matrix[1:3, 1:3]"
   ]
  },
  {
   "cell_type": "code",
   "execution_count": 84,
   "id": "9524dd87",
   "metadata": {},
   "outputs": [
    {
     "data": {
      "text/plain": [
       "array([ 5,  6,  7,  8,  9, 10])"
      ]
     },
     "execution_count": 84,
     "metadata": {},
     "output_type": "execute_result"
    }
   ],
   "source": [
    "array=np.arange(5, 11)\n",
    "array"
   ]
  },
  {
   "cell_type": "code",
   "execution_count": 86,
   "id": "8b103ca4",
   "metadata": {},
   "outputs": [
    {
     "data": {
      "text/plain": [
       "array([ True,  True,  True, False, False, False])"
      ]
     },
     "execution_count": 86,
     "metadata": {},
     "output_type": "execute_result"
    }
   ],
   "source": [
    "bool=array<8\n",
    "bool"
   ]
  },
  {
   "cell_type": "code",
   "execution_count": 87,
   "id": "a1e281d5",
   "metadata": {},
   "outputs": [
    {
     "data": {
      "text/plain": [
       "array([2.23606798, 2.44948974, 2.64575131, 2.82842712, 3.        ,\n",
       "       3.16227766])"
      ]
     },
     "execution_count": 87,
     "metadata": {},
     "output_type": "execute_result"
    }
   ],
   "source": [
    "np.sqrt(array)"
   ]
  },
  {
   "cell_type": "code",
   "execution_count": 88,
   "id": "2c0fae30",
   "metadata": {},
   "outputs": [
    {
     "data": {
      "text/plain": [
       "array([1.60943791, 1.79175947, 1.94591015, 2.07944154, 2.19722458,\n",
       "       2.30258509])"
      ]
     },
     "execution_count": 88,
     "metadata": {},
     "output_type": "execute_result"
    }
   ],
   "source": [
    "np.log(array)"
   ]
  },
  {
   "cell_type": "code",
   "execution_count": 89,
   "id": "d40b9c73",
   "metadata": {},
   "outputs": [
    {
     "data": {
      "text/plain": [
       "array([  148.4131591 ,   403.42879349,  1096.63315843,  2980.95798704,\n",
       "        8103.08392758, 22026.46579481])"
      ]
     },
     "execution_count": 89,
     "metadata": {},
     "output_type": "execute_result"
    }
   ],
   "source": [
    "np.exp(array)"
   ]
  },
  {
   "cell_type": "code",
   "execution_count": 94,
   "id": "152cc511",
   "metadata": {},
   "outputs": [
    {
     "data": {
      "text/plain": [
       "(array([[ 5,  6,  7],\n",
       "        [ 8,  9, 10]]),\n",
       " array([[12, 13],\n",
       "        [14, 15],\n",
       "        [16, 17]]))"
      ]
     },
     "execution_count": 94,
     "metadata": {},
     "output_type": "execute_result"
    }
   ],
   "source": [
    "array1=np.arange(5, 11)\n",
    "array2=np.arange(12, 18)\n",
    "a=array1.reshape(2, 3), b=array2.reshape(3, 2)"
   ]
  },
  {
   "cell_type": "code",
   "execution_count": 100,
   "id": "c5f358a0",
   "metadata": {},
   "outputs": [
    {
     "data": {
      "text/plain": [
       "(1.0204014340543015, 1.041219086620075)"
      ]
     },
     "execution_count": 100,
     "metadata": {},
     "output_type": "execute_result"
    }
   ],
   "source": [
    "np.std(a), np.var(a), "
   ]
  },
  {
   "cell_type": "code",
   "execution_count": 101,
   "id": "2f5c1b01",
   "metadata": {},
   "outputs": [
    {
     "data": {
      "text/plain": [
       "array(['cric', 'fball', 'golf'], dtype='<U5')"
      ]
     },
     "execution_count": 101,
     "metadata": {},
     "output_type": "execute_result"
    }
   ],
   "source": [
    "sports=np.array(['golf', 'cric', 'fball', 'fball', 'cric'])\n",
    "np.unique(sports)"
   ]
  },
  {
   "cell_type": "code",
   "execution_count": null,
   "id": "1fa3c8de",
   "metadata": {},
   "outputs": [],
   "source": []
  }
 ],
 "metadata": {
  "kernelspec": {
   "display_name": "Python 3",
   "language": "python",
   "name": "python3"
  },
  "language_info": {
   "codemirror_mode": {
    "name": "ipython",
    "version": 3
   },
   "file_extension": ".py",
   "mimetype": "text/x-python",
   "name": "python",
   "nbconvert_exporter": "python",
   "pygments_lexer": "ipython3",
   "version": "3.8.8"
  }
 },
 "nbformat": 4,
 "nbformat_minor": 5
}
